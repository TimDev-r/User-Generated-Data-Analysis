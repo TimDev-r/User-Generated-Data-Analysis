{
 "cells": [
  {
   "cell_type": "markdown",
   "metadata": {},
   "source": [
    "*UE Learning from User-generated Data, CP MMS, JKU Linz 2023*\n",
    "# Challenge\n",
    "\n"
   ]
  },
  {
   "cell_type": "code",
   "execution_count": 87,
   "metadata": {},
   "outputs": [],
   "source": [
    "import numpy as np\n",
    "import pandas as pd\n",
    "import random as rnd\n",
    "import torch\n",
    "from torch import nn, optim\n",
    "from tqdm import tqdm\n",
    "from rec import *"
   ]
  },
  {
   "cell_type": "markdown",
   "metadata": {
    "pycharm": {
     "name": "#%% md\n"
    },
    "tags": []
   },
   "source": [
    "## Task \n",
    "\n",
    "Load the users, items and both the train interactions and test interactions\n",
    "from the **new version of the lfm dataset** provided"
   ]
  },
  {
   "cell_type": "code",
   "execution_count": 217,
   "metadata": {
    "pycharm": {
     "name": "#%%\n"
    }
   },
   "outputs": [],
   "source": [
    "def read(dataset, file):\n",
    "    return pd.read_csv(dataset + '.' + file, sep='\\t')\n",
    "\n",
    "users = read(\"lfm-challenge\", 'user') #id, country, age, gender, registration date\n",
    "#print(users)\n",
    "items = read(\"lfm-challenge\", 'item') #id, artist, track, country of origin\n",
    "train_inters = read(\"lfm-challenge\", 'inter_train') # user id, item id, listening events\n",
    "test_inters = read(\"lfm-challenge\", 'inter_test') #user id, item id, listening events\n",
    "train_test = pd.concat([train_inters, test_inters])\n",
    "\n",
    "# print(train_inters)\n",
    "# print(test_inters)\n",
    "# print(train_test)\n",
    "train_interaction_matrix = inter_matr_implicit(users=users, items=items, interactions=train_test,\n",
    "                                               dataset_name=\"lfm-tiny\")\n",
    "# with np.printoptions(threshold=np.inf):\n",
    "#     print(train_interaction_matrix)\n",
    "test_interaction_matrix = inter_matr_implicit(users=users, items=items, interactions=test_inters,\n",
    "                                              dataset_name=\"lfm-tiny\")\n"
   ]
  },
  {
   "cell_type": "code",
   "execution_count": 218,
   "metadata": {},
   "outputs": [
    {
     "name": "stdout",
     "output_type": "stream",
     "text": [
      "[4251, 9092, 6483, 4517, 4353, 7505, 1504, 3152, 1606, 6897, 1771, 4815, 4173, 7909, 3592, 6689, 8063, 1954, 8530, 9346, 2202, 8896, 8598, 1247, 1572, 8070, 7687, 1849, 7330, 1367, 2340, 5343, 6779, 5069, 5256, 2810, 8733, 7546, 6189, 7438, 900, 8155, 5282, 3762, 4289, 4618, 6097, 657, 7312, 2211, 6274, 8691, 6594, 3554, 4318, 4493, 8899, 4947, 7072, 7183, 3882, 3577, 7421, 744, 6172, 6617, 7970, 836, 2684, 956, 9359, 7305, 427, 8231, 6749, 4235, 8257, 1895, 3522, 620, 919, 4820, 9368, 4227, 3030, 7789, 6084, 6538, 4554, 7514, 3982, 3426, 7198, 1272, 6637, 3195, 870, 5462, 4347, 8060]\n"
     ]
    }
   ],
   "source": [
    "def read_values_from_file(file_path): #  функция берет ids of test users \n",
    "    values = []\n",
    "    k = 0\n",
    "    try:\n",
    "        with open(file_path, 'r') as file:\n",
    "            for line in file:\n",
    "                line = line.strip()  # Remove leading/trailing whitespaces\n",
    "                if line:  # Skip empty lines\n",
    "                    values.append(int(line))\n",
    "                k+=1\n",
    "                # if k==10:\n",
    "                #     break\n",
    "    except IOError:\n",
    "        print(\"Error: Unable to read the file.\")\n",
    "    return values\n",
    "print(read_values_from_file('test_indices.txt'))\n",
    "indices = read_values_from_file('test_indices.txt')\n",
    "#indices = range(0,1194)"
   ]
  },
  {
   "cell_type": "code",
   "execution_count": 219,
   "metadata": {},
   "outputs": [
    {
     "data": {
      "text/plain": [
       "(9699, 10000)"
      ]
     },
     "metadata": {},
     "output_type": "display_data"
    }
   ],
   "source": [
    "# with np.printoptions(threshold=np.inf):\n",
    "#     print(train_interaction_matrix)\n",
    "display(np.shape(train_interaction_matrix))"
   ]
  },
  {
   "cell_type": "code",
   "execution_count": 231,
   "metadata": {},
   "outputs": [],
   "source": [
    "def recTopKPop(inter_matr: np.array,\n",
    "               user: int,\n",
    "               top_k: int,\n",
    "               users: pd.DataFrame) -> np.array:\n",
    "    '''\n",
    "    inter_matr - np.array from the task 1;\n",
    "    user - user_id, integer;\n",
    "    top_k - expected length of the resulting list;\n",
    "    users: pandas DataFrame consisting of user information for all users, requires a \"country\" column;\n",
    "\n",
    "\n",
    "    returns - list/array of top K popular items that the user has never seen\n",
    "              (sorted in the order of descending popularity);\n",
    "    '''\n",
    "\n",
    "    top_pop = None\n",
    "\n",
    "    # global item-popularity distribution:\n",
    "    item_pop = inter_matr.sum(axis=0)\n",
    "\n",
    "    # finding items seen by the user, basicaly indices of non-zero elements ...\n",
    "    # ... in the interaction array corresponding to the user:\n",
    "    items_seen = np.nonzero(inter_matr[user])\n",
    "\n",
    "    # force values seen by the user to become 'unpopular'\n",
    "    item_pop[items_seen] = 0\n",
    "    \n",
    "    # # Filter users based on the same country as the user\n",
    "    # country = users.loc[user, \"country\"]\n",
    "    # Filter users based on the same country, age, and gender as the user\n",
    "    country = users.loc[user, \"country\"]\n",
    "    age = users.loc[user, \"age_at_registration\"]\n",
    "    gender = users.loc[user, \"gender\"]\n",
    "    \n",
    "    # Extract year and month from registration_date\n",
    "    registration_date = pd.to_datetime(users.loc[user, \"registration_date\"])\n",
    "    registration_year_month = f\"{registration_date.year}-{registration_date.month:02d}\"\n",
    "\n",
    "    # registration_year = pd.to_datetime(users.loc[user, \"registration_date\"]).year\n",
    "    # same_country_users = users[users[\"country\"] == country] \n",
    "    \n",
    "    # same_group_users = users[(users[\"country\"] == country) & (users[\"age_at_registration\"] == age) & (users[\"gender\"] == gender)]\n",
    "\n",
    "    #same_group_users = users[(users[\"country\"] == country) & (users[\"age_at_registration\"] == age) & (pd.to_datetime(users[\"registration_date\"]).dt.year == registration_year)]\n",
    "    same_group_users = users[(users[\"country\"] == country) & (users[\"age_at_registration\"] == age) & (users[\"gender\"] == gender) & (pd.to_datetime(users[\"registration_date\"]).dt.strftime(\"%Y-%m\") == registration_year_month)]\n",
    "\n",
    "    # Exclude items seen by users from different countries\n",
    "    # for idx, row in same_country_users.iterrows():\n",
    "    for idx, row in same_group_users.iterrows():\n",
    "        if idx != user:\n",
    "            items_seen = np.nonzero(inter_matr[idx])\n",
    "            item_pop[items_seen] = 0\n",
    "\n",
    "    top_pop = np.full((top_k,), -1)\n",
    "\n",
    "    # get indices of top_K (new) popular items\n",
    "    t_pop = (-item_pop).argsort()[:top_k]\n",
    "    top_pop[:len(t_pop)] = t_pop\n",
    "\n",
    "    return top_pop"
   ]
  },
  {
   "cell_type": "code",
   "execution_count": 232,
   "metadata": {},
   "outputs": [],
   "source": [
    "# Define the output file path\n",
    "output_file = \"rec_k12127091_Ibragimov_Timur(TRAIN+TEST_countrAgeGenderYearMonth).tsv\"\n",
    "\n",
    "# create a pandas Dataframe with user data that has at least a \"country column\"\n",
    "result = []\n",
    "\n",
    "# Open the file in write mode\n",
    "with open(output_file, \"w\") as f:\n",
    "    for elem in indices:\n",
    "        top_10 = recTopKPop(inter_matr=train_interaction_matrix, user=elem, top_k=10, users=users)\n",
    "        result.append(top_10)\n",
    "        #print(result)\n",
    "        # print(elem, \"top_10: \",top_10)\n",
    "        #print(type(top_10))\n",
    "        \n",
    "        # Write the user ID and recommendations to the file\n",
    "        f.write(f\"{elem}\\t{','.join(map(str, top_10))}\\n\")\n",
    "    result = np.array(result)\n",
    "    # print(result, type(result))"
   ]
  },
  {
   "cell_type": "code",
   "execution_count": 234,
   "metadata": {},
   "outputs": [],
   "source": [
    "output_file = \"report_k12127091_Ibragimov_Timur.txt\"\n",
    "with open(output_file, \"w\") as f:\n",
    "    f.write(f\"a\")"
   ]
  },
  {
   "cell_type": "markdown",
   "metadata": {},
   "source": [
    "# Part  : Evaluation"
   ]
  },
  {
   "cell_type": "code",
   "execution_count": 167,
   "metadata": {},
   "outputs": [],
   "source": [
    "def get_ndcg_score(predictions: np.ndarray, test_interaction_matrix: np.ndarray, topK=10) -> float:\n",
    "    \"\"\"\n",
    "    predictions - np.ndarray - predictions of the recommendation algorithm for each user.\n",
    "    test_interaction_matrix - np.ndarray - test interaction matrix for each user.\n",
    "    topK - int - topK recommendations should be evaluated.\n",
    "    \n",
    "    returns - average ndcg score over all users.\n",
    "    \"\"\"\n",
    "    score = None\n",
    "    \n",
    "    # TODO: YOUR IMPLEMENTATION.\n",
    "    ndcg_scores = []\n",
    "    num_users = predictions.shape[0]\n",
    "\n",
    "    for i in range(num_users):\n",
    "        # Get the topK recommendations for the i-th user\n",
    "        topk_items = predictions[i][:topK]\n",
    "        \n",
    "        # Get the held-out items for the i-th user\n",
    "        held_out_items = np.where(test_interaction_matrix[i] == 1)[0]\n",
    "        \n",
    "        # Compute the ideal DCG for the i-th user\n",
    "        ideal_dcg = 0.0\n",
    "        for j in range(min(topK, len(held_out_items))):\n",
    "            if j == 0:\n",
    "                    ideal_dcg += 1.0\n",
    "            else:\n",
    "                ideal_dcg += 1.0 / np.log2(j + 2)\n",
    "        \n",
    "        # Compute the actual DCG for the i-th user\n",
    "        dcg = 0.0\n",
    "        for j, item in enumerate(topk_items):\n",
    "            if item in held_out_items:\n",
    "                if j == 0:\n",
    "                    dcg += 1.0\n",
    "                else:\n",
    "                    dcg += 1.0 / np.log2(j + 2)\n",
    "\n",
    "        # Compute the nDCG score for the i-th user\n",
    "        if ideal_dcg > 0:\n",
    "            ndcg = dcg / ideal_dcg\n",
    "        else:\n",
    "            ndcg = 0.0\n",
    "        \n",
    "        ndcg_scores.append(ndcg)\n",
    "\n",
    "    # Compute the average nDCG score over all users\n",
    "    score = np.mean(ndcg_scores)\n",
    "\n",
    "    return score"
   ]
  },
  {
   "cell_type": "code",
   "execution_count": 233,
   "metadata": {
    "tags": []
   },
   "outputs": [
    {
     "name": "stdout",
     "output_type": "stream",
     "text": [
      "0.026392208624811064\n"
     ]
    }
   ],
   "source": [
    "predictions = result\n",
    "# print(predictions.shape[0])\n",
    "test_interaction_matrix = test_interaction_matrix\n",
    "\n",
    "ndcg_score = get_ndcg_score(predictions, test_interaction_matrix, topK=10)\n",
    "\n",
    "print(ndcg_score)"
   ]
  },
  {
   "cell_type": "markdown",
   "metadata": {},
   "source": [
    "\n",
    "ndcg_score(recTopKPopByCountry): 0.009580595786269233\n",
    "\n",
    "ndcg_score(recTopKPopByAgeGenderYear): 0.01116046819893001\n",
    "\n",
    "ndcg_score(recTopKPopByCountryGender): 0.014961716384681991\n",
    "\n",
    "ndcg_score(recTopKPopByCountryYear): 0.016949164841607835\n",
    "\n",
    "ndcg_score(recTopKPopByCountryAgeGender): 0.017774002347438075 \n",
    "\n",
    "ndcg_score(recTopKPopByCountryGenderYear): 0.01875258045152185\n",
    "\n",
    "ndcg_score(recTopKPopByCountryAgeGenderYear): 0.022790104969650105 + 0.026392208624811064\n",
    "\n",
    "ndcg_score(recTopKPopByCountryAgeYear): 0.02304267544108223 + 0.02647045421779115\n",
    "\n",
    "ndcg_score(recTopKPopByCountryAgeGenderYearMonth): 0.027075819929509005 + 0.026392208624811064"
   ]
  },
  {
   "cell_type": "code",
   "execution_count": null,
   "metadata": {},
   "outputs": [],
   "source": [
    " "
   ]
  }
 ],
 "metadata": {
  "kernelspec": {
   "display_name": "Python 3 (ipykernel)",
   "language": "python",
   "name": "python3"
  },
  "language_info": {
   "codemirror_mode": {
    "name": "ipython",
    "version": 3
   },
   "file_extension": ".py",
   "mimetype": "text/x-python",
   "name": "python",
   "nbconvert_exporter": "python",
   "pygments_lexer": "ipython3",
   "version": "3.9.12"
  }
 },
 "nbformat": 4,
 "nbformat_minor": 4
}
