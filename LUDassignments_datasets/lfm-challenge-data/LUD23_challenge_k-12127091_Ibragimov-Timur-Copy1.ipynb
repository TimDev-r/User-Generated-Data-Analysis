{
 "cells": [
  {
   "cell_type": "markdown",
   "metadata": {},
   "source": [
    "*UE Learning from User-generated Data, CP MMS, JKU Linz 2023*\n",
    "# Challenge\n",
    "\n"
   ]
  },
  {
   "cell_type": "code",
   "execution_count": 1,
   "metadata": {},
   "outputs": [],
   "source": [
    "import numpy as np\n",
    "import pandas as pd\n",
    "import random as rnd\n",
    "import torch\n",
    "from torch import nn, optim\n",
    "from tqdm import tqdm\n",
    "from rec import *"
   ]
  },
  {
   "cell_type": "code",
   "execution_count": 2,
   "metadata": {
    "pycharm": {
     "name": "#%%\n"
    }
   },
   "outputs": [],
   "source": [
    "def KL(P: np.ndarray, Q: np.ndarray, eps: float = 1e-14):\n",
    "    '''\n",
    "    P - np.ndarray, probability distribution\n",
    "    Q - np.ndarray, probability distribution\n",
    "    eps - float, margin added to both distributions to avoid division by zero errors\n",
    "    returns - float, divergence of distributions P,Q\n",
    "    '''\n",
    "\n",
    "    kl = None\n",
    "\n",
    "    P = P + eps\n",
    "    Q = Q + eps\n",
    "    kl = float(0)\n",
    "    for i in range(len(P)):\n",
    "        kl += P[i]*np.log2(P[i]/Q[i])\n",
    "    kl = float(kl)\n",
    "\n",
    "    return kl\n"
   ]
  },
  {
   "cell_type": "code",
   "execution_count": 3,
   "metadata": {
    "pycharm": {
     "name": "#%%\n"
    }
   },
   "outputs": [],
   "source": [
    "# Check if you handle zeros correctly (use \"eps\" parameter)\n",
    "P = np.array([0.3, 0.6, 0.1])\n",
    "Q = np.array([0.4, 0.6, 0.0])\n",
    "\n",
    "assert type(KL(P, Q)) == float\n",
    "assert np.isclose(KL(P, Q), 4.193995)"
   ]
  },
  {
   "cell_type": "code",
   "execution_count": 4,
   "metadata": {
    "pycharm": {
     "name": "#%%\n"
    }
   },
   "outputs": [],
   "source": [
    "def JSD(P: np.ndarray, Q: np.ndarray, eps: float = 1e-14):\n",
    "    '''\n",
    "    P - np.ndarray, probability distribution\n",
    "    Q - np.ndarray, probability distribution\n",
    "    eps - float, margin added to both distributions to avoid division by zero errors, parameter for KL\n",
    "    returns - float, divergence of distributions P,Q\n",
    "    '''\n",
    "\n",
    "    jsd = None\n",
    "    kl_pm,kl_qm = 0,0\n",
    "    P = P + eps\n",
    "    Q = Q + eps\n",
    "    M = 0.5*(P+Q)\n",
    "    \n",
    "\n",
    "    for i in range(len(P)):\n",
    "        kl_pm += P[i]*np.log2(P[i]/M[i])\n",
    "\n",
    "    for i in range(len(Q)):\n",
    "        kl_qm += Q[i]*np.log2(Q[i]/M[i])\n",
    "\n",
    "    jsd = 0.5*kl_qm + 0.5*kl_pm\n",
    "    jsd = float(jsd)\n",
    "\n",
    "\n",
    "    return jsd"
   ]
  },
  {
   "cell_type": "code",
   "execution_count": 5,
   "metadata": {
    "pycharm": {
     "name": "#%%\n"
    }
   },
   "outputs": [],
   "source": [
    "# Check if you handle zeros correctly (use \"eps\" parameter)\n",
    "P = np.array([0.3, 0.6, 0.1])\n",
    "Q = np.array([0.4, 0.6, 0.0])\n",
    "\n",
    "assert type(JSD(P, Q)) == float\n",
    "assert np.isclose(JSD(P, Q), 0.055170)"
   ]
  },
  {
   "cell_type": "code",
   "execution_count": 6,
   "metadata": {
    "pycharm": {
     "name": "#%%\n"
    }
   },
   "outputs": [],
   "source": [
    "# KL divergence compares a target distribution to a reference distribution and is NOT symmetric\n",
    "# JS divergence is symmetric -  you can exchange P and Q and get the same results\n",
    "# the following asserts check this behaviour\n",
    "P = np.array([0.3, 0.6, 0.1])\n",
    "Q = np.array([0.2, 0.3, 0.5])\n",
    "\n",
    "assert KL(P, Q) != KL(Q, P)\n",
    "assert JSD(P, Q) == JSD(Q, P)"
   ]
  },
  {
   "cell_type": "markdown",
   "metadata": {
    "pycharm": {
     "name": "#%% md\n"
    },
    "tags": []
   },
   "source": [
    "## Task \n",
    "\n",
    "Load the users, items and both the train interactions and test interactions\n",
    "from the **new version of the lfm dataset** provided"
   ]
  },
  {
   "cell_type": "code",
   "execution_count": 7,
   "metadata": {
    "pycharm": {
     "name": "#%%\n"
    }
   },
   "outputs": [],
   "source": [
    "def read(dataset, file):\n",
    "    return pd.read_csv(dataset + '.' + file, sep='\\t')\n",
    "\n",
    "users = read(\"lfm-tiny\", 'user')\n",
    "items = read(\"lfm-tiny\", 'item')\n",
    "train_inters = read(\"lfm-tiny\", 'inter_train')\n",
    "test_inters = read(\"lfm-tiny\", 'inter_test')\n",
    "\n",
    "train_interaction_matrix = inter_matr_implicit(users=users, items=items, interactions=train_inters,\n",
    "                                               dataset_name=\"lfm-tiny\")\n",
    "test_interaction_matrix = inter_matr_implicit(users=users, items=items, interactions=test_inters,\n",
    "                                              dataset_name=\"lfm-tiny\")"
   ]
  },
  {
   "cell_type": "code",
   "execution_count": 8,
   "metadata": {},
   "outputs": [
    {
     "data": {
      "text/plain": [
       "array([[0, 0, 1, ..., 0, 0, 0],\n",
       "       [0, 0, 0, ..., 0, 0, 0],\n",
       "       [0, 0, 0, ..., 0, 0, 0],\n",
       "       ...,\n",
       "       [0, 0, 0, ..., 0, 0, 0],\n",
       "       [0, 0, 0, ..., 0, 0, 0],\n",
       "       [0, 1, 0, ..., 0, 0, 0]], dtype=int8)"
      ]
     },
     "metadata": {},
     "output_type": "display_data"
    },
    {
     "data": {
      "text/plain": [
       "(1194, 412)"
      ]
     },
     "metadata": {},
     "output_type": "display_data"
    }
   ],
   "source": [
    "display(train_interaction_matrix, np.shape(train_interaction_matrix))"
   ]
  },
  {
   "cell_type": "code",
   "execution_count": 9,
   "metadata": {},
   "outputs": [
    {
     "name": "stdout",
     "output_type": "stream",
     "text": [
      "users' representations:\n",
      " [[ 0.01665131  0.00903522 -0.00468575 ... -0.10026957  0.03784116\n",
      "   0.01031858]\n",
      " [ 0.02998008  0.02846227  0.01030624 ... -0.01206406  0.01609656\n",
      "   0.01281369]\n",
      " [ 0.00741979  0.0062279   0.00487695 ...  0.02174137  0.00103163\n",
      "   0.01011269]\n",
      " ...\n",
      " [ 0.01529216  0.00133054  0.02999989 ...  0.04132464 -0.00366416\n",
      "  -0.00327995]\n",
      " [ 0.00348654 -0.00117236  0.0069645  ...  0.01838751 -0.01558518\n",
      "   0.01606245]\n",
      " [ 0.01739873 -0.02506171  0.01391198 ... -0.00953045  0.02599903\n",
      "   0.01115208]] \n",
      "\n",
      "items' representations:\n",
      " [[ 0.01100866 -0.00786847 -0.01056714 ... -0.16250542 -0.04366737\n",
      "   0.00145276]\n",
      " [ 0.05403607 -0.06191249 -0.07123008 ... -0.00702884  0.00445195\n",
      "  -0.0022016 ]\n",
      " [ 0.07569417  0.05281746  0.01061387 ... -0.0002195   0.00068732\n",
      "   0.00054193]\n",
      " ...\n",
      " [ 0.01295486 -0.02022103  0.00683831 ...  0.00607692  0.01221049\n",
      "  -0.02644329]\n",
      " [ 0.00534639 -0.00806501 -0.00417752 ... -0.00815688  0.01367933\n",
      "  -0.00288832]\n",
      " [ 0.00504318 -0.00849825  0.00681265 ... -0.0026571   0.0036718\n",
      "   0.00877125]] \n",
      "\n",
      "singular values: [15.68406651 13.59018363 11.02155791 10.13508811  9.90806667  9.5198534\n",
      "  9.4176381   8.94372135  8.52222636  8.42334411  8.34523613  8.18723578\n",
      "  8.12618714  7.89930023  7.82400747  7.68346761  7.62279763  7.48649743\n",
      "  7.45738188  7.30810386  7.16803077  7.1038648   7.09778535  7.01603204\n",
      "  6.90175638  6.8393935   6.80393944  6.64391486  6.60700173  6.59442981\n",
      "  6.53301107  6.44174803  6.37231168  6.31975175  6.2751338   6.24716847\n",
      "  6.21108794  6.17075844  6.06772629  5.98449966  5.97276848  5.89235788\n",
      "  5.88123342  5.84245973  5.83539164  5.77690954  5.74399972  5.65039609\n",
      "  5.62177152  5.5951964   5.54723498  5.51397649  5.48160628  5.44006489\n",
      "  5.39179759  5.30306254  5.28671647  5.26684436  5.25667925  5.18878696\n",
      "  5.15432727  5.12682241  5.11824716  5.07192152  5.04496135  5.00195877\n",
      "  4.99462293  4.96726695  4.96524335  4.94035648  4.90927222  4.87337131\n",
      "  4.84215504  4.83086416  4.79557567  4.76648173  4.73474534  4.69806623\n",
      "  4.67588265  4.64467407  4.60970234  4.58520662  4.57385606  4.56545248\n",
      "  4.53895276  4.51883045  4.48581178  4.44594146  4.43785196  4.41687297\n",
      "  4.36501434  4.3454773   4.32472137  4.31572902  4.30161086  4.29120422\n",
      "  4.25713747  4.24081132  4.23572602  4.20274758  4.17681862  4.14780411\n",
      "  4.11969675  4.11325036  4.10345591  4.08976029  4.0691383   4.04952776\n",
      "  4.00989402  3.99815858  3.98321256  3.95776117  3.94615035  3.91086026\n",
      "  3.89804317  3.88456305  3.87143846  3.84857327  3.83592729  3.81219398\n",
      "  3.79657272  3.77167206  3.7598571   3.75039728  3.73824966  3.72423686\n",
      "  3.70579193  3.69614038  3.68466956  3.67938257  3.63552962  3.62504956\n",
      "  3.6144716   3.59853686  3.58392767  3.57523593  3.54150635  3.53552465\n",
      "  3.5338355   3.52943489  3.51838266  3.49513532  3.47508948  3.46270392\n",
      "  3.44910739  3.43954354  3.43463189  3.41340916  3.39884984  3.39093601\n",
      "  3.38522954  3.37896895  3.3598583   3.34923702  3.34369811  3.33669313\n",
      "  3.32264281  3.30311375  3.29400293  3.28486323  3.28077612  3.26650242\n",
      "  3.24795356  3.22318551  3.2150918   3.20004621  3.19535414  3.19452387\n",
      "  3.17482205  3.16690738  3.16077296  3.13285959  3.12488544  3.11505125\n",
      "  3.10374868  3.09469007  3.09360193  3.07443342  3.05794366  3.04737207\n",
      "  3.0376618   3.02624913  3.0161594   3.00753644  3.00192411  2.98074871\n",
      "  2.97820704  2.96883312  2.95402743  2.94281726  2.9377074   2.92791025\n",
      "  2.90982357  2.9016979   2.8951445   2.89225341  2.87847281  2.87237036\n",
      "  2.86478314  2.8612874   2.84459896  2.83888264  2.8313561   2.80173047\n",
      "  2.79747768  2.78987235  2.77492033  2.77258928  2.75170146  2.7403382\n",
      "  2.73926798  2.73273969  2.72588945  2.71380586  2.70416689  2.69499747\n",
      "  2.67806561  2.66723933  2.660786    2.65411661  2.64681149  2.62887238\n",
      "  2.6246113   2.6162366   2.60190594  2.5982018   2.58380517  2.58046322\n",
      "  2.56922058  2.56082622  2.5468611   2.54302356  2.53329834  2.52590122\n",
      "  2.52355063  2.50726316  2.50466334  2.48758134  2.48027032  2.47229587\n",
      "  2.46304308  2.44957442  2.44302874  2.43683767  2.43283244  2.42351598\n",
      "  2.41408628  2.40628931  2.39526858  2.37071704  2.36764324  2.36101011\n",
      "  2.3502308   2.34546569  2.33680073  2.33176511  2.32401447  2.30890727\n",
      "  2.30534883  2.29367715  2.29024259  2.27897228  2.27788641  2.26634791\n",
      "  2.26300384  2.24522796  2.23465519  2.23040697  2.22503027  2.22006497\n",
      "  2.20874163  2.20304261  2.19679745  2.18968801  2.18636054  2.17008958\n",
      "  2.16467246  2.15080449  2.14608141  2.13625263  2.13079989  2.12478931\n",
      "  2.1146575   2.1087275   2.10559774  2.09813493  2.0870203   2.08390875\n",
      "  2.08265739  2.0648809   2.06127555  2.05044851  2.04005596  2.02400031\n",
      "  2.02209576  2.00414619  1.99989896  1.99743063  1.99414959  1.9875946\n",
      "  1.98418821  1.97652666  1.96429792  1.95893708  1.95174628  1.94748449\n",
      "  1.93479695  1.93123886  1.92204639  1.91213716  1.90643346  1.90281881\n",
      "  1.89077069  1.8752317   1.87025455  1.86920152  1.86270665  1.84697718\n",
      "  1.83883049  1.83138619  1.82725624  1.81769329  1.81044866  1.80596483\n",
      "  1.78906393  1.78731151  1.77962099  1.76857235  1.75959143  1.75139907\n",
      "  1.74256244  1.73342023  1.73031138  1.72065547  1.70258767  1.69848047\n",
      "  1.696356    1.685956    1.67831179  1.66764046  1.65571127  1.65001384\n",
      "  1.64716795  1.63964462  1.6376066   1.62929533  1.61354164  1.60294662\n",
      "  1.59697432  1.59147084  1.5883491   1.57902572  1.56869198  1.56206015\n",
      "  1.54578247  1.54017692  1.52998243  1.52014499  1.51193011  1.50359818\n",
      "  1.4884592   1.48417361  1.48053225  1.46915683  1.45597926  1.45139036\n",
      "  1.44137589  1.42707152  1.41879086  1.41627318  1.3999824   1.38999141\n",
      "  1.38514522  1.3705545   1.36617964  1.36115903  1.3500018   1.33673692\n",
      "  1.33338392  1.32637004  1.31846962  1.30470486  1.29192856  1.29054667\n",
      "  1.27156899  1.2670467   1.25785847  1.243178    1.23165549  1.21230443\n",
      "  1.20387727  1.19523653  1.17475422  1.16566232  1.1574008   1.14887882\n",
      "  1.10902789  1.10044073  1.08810245  1.08099149  1.02922602  1.01286768\n",
      "  1.00645037  0.97808802  0.95673628  0.92940709  0.90797675  0.88016069\n",
      "  0.87175439  0.82602654  0.66606597  0.63710098] \n",
      "\n",
      "412\n",
      "reconstructed matrix\n",
      " [[-1.64798730e-16 -5.25621213e-16  1.00000000e+00 ...  2.23779328e-16\n",
      "   4.16333634e-17 -2.46330734e-16]\n",
      " [ 2.71917905e-16 -1.49469467e-15 -6.66567496e-16 ... -2.35922393e-16\n",
      "  -3.31332184e-16  4.92661467e-16]\n",
      " [-7.97972799e-17  1.33920652e-15 -1.07010754e-15 ... -4.40619763e-16\n",
      "  -3.67761377e-16 -2.28116137e-16]\n",
      " ...\n",
      " [-5.95010152e-16  5.12610787e-16 -1.49663268e-15 ... -1.90819582e-17\n",
      "   1.00613962e-16  6.22332047e-17]\n",
      " [-8.32667268e-17 -5.10008702e-16 -4.51028104e-16 ...  3.41740525e-16\n",
      "   4.67941658e-16  2.80157841e-16]\n",
      " [ 3.68411898e-16  1.00000000e+00 -3.78213086e-15 ...  1.02782366e-16\n",
      "  -1.63064007e-16  5.46437895e-17]] \n",
      "\n",
      "reconstructed matrix (rounded)\n",
      " [[-0. -0.  1. ...  0.  0. -0.]\n",
      " [ 0. -0. -0. ... -0. -0.  0.]\n",
      " [-0.  0. -0. ... -0. -0. -0.]\n",
      " ...\n",
      " [-0.  0. -0. ... -0.  0.  0.]\n",
      " [-0. -0. -0. ...  0.  0.  0.]\n",
      " [ 0.  1. -0. ...  0. -0.  0.]]\n"
     ]
    }
   ],
   "source": [
    "# we set 'full_matrices' to 'False' for Thin SVD\n",
    "U, s, Vh = np.linalg.svd(train_interaction_matrix, full_matrices=False)\n",
    "\n",
    "# let's quickly construct the matrix back to make sure everything works\n",
    "res = (U @ np.diag(s)) @ Vh\n",
    "\n",
    "print('users\\' representations:\\n', U, '\\n')\n",
    "print('items\\' representations:\\n', Vh.T, '\\n')  # Transposing to have first dimension correspond to items\n",
    "print('singular values:', s, '\\n')\n",
    "print(len(s))\n",
    "print('reconstructed matrix\\n', res, '\\n')\n",
    "print('reconstructed matrix (rounded)\\n', res.round())"
   ]
  },
  {
   "cell_type": "markdown",
   "metadata": {},
   "source": [
    "/\n",
    "/\n",
    "/\n",
    "**Now let's check if matrices are identical**\n",
    "/\n",
    "/\n",
    "/"
   ]
  },
  {
   "cell_type": "code",
   "execution_count": 10,
   "metadata": {},
   "outputs": [
    {
     "data": {
      "text/plain": [
       "array([[ True,  True,  True, ...,  True,  True,  True],\n",
       "       [ True,  True,  True, ...,  True,  True,  True],\n",
       "       [ True,  True,  True, ...,  True,  True,  True],\n",
       "       ...,\n",
       "       [ True,  True,  True, ...,  True,  True,  True],\n",
       "       [ True,  True,  True, ...,  True,  True,  True],\n",
       "       [ True,  True,  True, ...,  True,  True,  True]])"
      ]
     },
     "metadata": {},
     "output_type": "display_data"
    },
    {
     "name": "stdout",
     "output_type": "stream",
     "text": [
      "0\n"
     ]
    }
   ],
   "source": [
    "otv = np.isclose(train_interaction_matrix,res.round())\n",
    "display(otv)\n",
    "print(np.count_nonzero(otv == False))"
   ]
  },
  {
   "cell_type": "markdown",
   "metadata": {},
   "source": [
    "Having https://www.sciencedirect.com/science/article/pii/S2772415822000244 as a reference, we can sum up singular valuse(variances), and retain the first **K** singular values such that the cumulative percentage of the total variance is bigger than a threshold value between 70-90%. Let's take 80%."
   ]
  },
  {
   "cell_type": "code",
   "execution_count": 11,
   "metadata": {},
   "outputs": [
    {
     "name": "stdout",
     "output_type": "stream",
     "text": [
      "variances sum =  1361.8689574779498\n",
      "[15.68406651 13.59018363 11.02155791 10.13508811  9.90806667  9.5198534\n",
      "  9.4176381   8.94372135  8.52222636  8.42334411  8.34523613  8.18723578\n",
      "  8.12618714  7.89930023  7.82400747  7.68346761  7.62279763  7.48649743\n",
      "  7.45738188  7.30810386  7.16803077  7.1038648   7.09778535  7.01603204\n",
      "  6.90175638  6.8393935   6.80393944  6.64391486  6.60700173  6.59442981\n",
      "  6.53301107  6.44174803  6.37231168  6.31975175  6.2751338   6.24716847\n",
      "  6.21108794  6.17075844  6.06772629  5.98449966  5.97276848  5.89235788\n",
      "  5.88123342  5.84245973  5.83539164  5.77690954  5.74399972  5.65039609\n",
      "  5.62177152  5.5951964   5.54723498  5.51397649  5.48160628  5.44006489\n",
      "  5.39179759  5.30306254  5.28671647  5.26684436  5.25667925  5.18878696\n",
      "  5.15432727  5.12682241  5.11824716  5.07192152  5.04496135  5.00195877\n",
      "  4.99462293  4.96726695  4.96524335  4.94035648  4.90927222  4.87337131\n",
      "  4.84215504  4.83086416  4.79557567  4.76648173  4.73474534  4.69806623\n",
      "  4.67588265  4.64467407  4.60970234  4.58520662  4.57385606  4.56545248\n",
      "  4.53895276  4.51883045  4.48581178  4.44594146  4.43785196  4.41687297\n",
      "  4.36501434  4.3454773   4.32472137  4.31572902  4.30161086  4.29120422\n",
      "  4.25713747  4.24081132  4.23572602  4.20274758  4.17681862  4.14780411\n",
      "  4.11969675  4.11325036  4.10345591  4.08976029  4.0691383   4.04952776\n",
      "  4.00989402  3.99815858  3.98321256  3.95776117  3.94615035  3.91086026\n",
      "  3.89804317  3.88456305  3.87143846  3.84857327  3.83592729  3.81219398\n",
      "  3.79657272  3.77167206  3.7598571   3.75039728  3.73824966  3.72423686\n",
      "  3.70579193  3.69614038  3.68466956  3.67938257  3.63552962  3.62504956\n",
      "  3.6144716   3.59853686  3.58392767  3.57523593  3.54150635  3.53552465\n",
      "  3.5338355   3.52943489  3.51838266  3.49513532  3.47508948  3.46270392\n",
      "  3.44910739  3.43954354  3.43463189  3.41340916  3.39884984  3.39093601\n",
      "  3.38522954  3.37896895  3.3598583   3.34923702  3.34369811  3.33669313\n",
      "  3.32264281  3.30311375  3.29400293  3.28486323  3.28077612  3.26650242\n",
      "  3.24795356  3.22318551  3.2150918   3.20004621  3.19535414  3.19452387\n",
      "  3.17482205  3.16690738  3.16077296  3.13285959  3.12488544  3.11505125\n",
      "  3.10374868  3.09469007  3.09360193  3.07443342  3.05794366  3.04737207\n",
      "  3.0376618   3.02624913  3.0161594   3.00753644  3.00192411  2.98074871\n",
      "  2.97820704  2.96883312  2.95402743  2.94281726  2.9377074   2.92791025\n",
      "  2.90982357  2.9016979   2.8951445   2.89225341  2.87847281  2.87237036\n",
      "  2.86478314  2.8612874   2.84459896  2.83888264  2.8313561   2.80173047\n",
      "  2.79747768  2.78987235  2.77492033  2.77258928  2.75170146  2.7403382\n",
      "  2.73926798  2.73273969  2.72588945  2.71380586  2.70416689  2.69499747\n",
      "  2.67806561  2.66723933  2.660786    2.65411661  2.64681149  2.62887238\n",
      "  2.6246113   2.6162366   2.60190594  2.5982018   2.58380517  2.58046322\n",
      "  2.56922058  2.56082622  2.5468611   2.54302356  2.53329834  2.52590122\n",
      "  2.52355063  2.50726316  2.50466334  2.48758134  2.48027032  2.47229587\n",
      "  2.46304308  2.44957442  2.44302874  2.43683767  2.43283244  2.42351598\n",
      "  2.41408628  2.40628931  2.39526858  2.37071704  2.36764324  2.36101011]\n"
     ]
    }
   ],
   "source": [
    "var_sum = np.sum(s)\n",
    "print(\"variances sum = \",var_sum)\n",
    "\n",
    "# Calculate the cumulative sum array of the variances array\n",
    "cumulative_sum = np.cumsum(s)\n",
    "#print(cumulative_sum)\n",
    "\n",
    "# Find the index where the cumulative sum exceeds or equals the target sum\n",
    "index = np.argmax(cumulative_sum >= 0.80*var_sum)\n",
    "\n",
    "# Select the elements from the sorted array up to the found index\n",
    "selected_elements = s[:index+1]\n",
    "print(selected_elements)"
   ]
  },
  {
   "cell_type": "code",
   "execution_count": 12,
   "metadata": {},
   "outputs": [
    {
     "data": {
      "text/plain": [
       "'reconstructed interaction matrix with f = '"
      ]
     },
     "metadata": {},
     "output_type": "display_data"
    },
    {
     "data": {
      "text/plain": [
       "252"
      ]
     },
     "metadata": {},
     "output_type": "display_data"
    },
    {
     "data": {
      "text/plain": [
       "', truncated:\\n'"
      ]
     },
     "metadata": {},
     "output_type": "display_data"
    },
    {
     "data": {
      "text/plain": [
       "array([[ 0., -0.,  1., ...,  0.,  0., -0.],\n",
       "       [-0., -0., -0., ..., -0.,  0.,  0.],\n",
       "       [-0.,  0.,  0., ..., -0., -0.,  0.],\n",
       "       ...,\n",
       "       [ 0., -0.,  0., ...,  0.,  0.,  0.],\n",
       "       [ 0., -0., -0., ...,  0.,  0.,  0.],\n",
       "       [-0.,  1.,  0., ..., -0.,  0.,  0.]])"
      ]
     },
     "metadata": {},
     "output_type": "display_data"
    },
    {
     "data": {
      "text/plain": [
       "(1194, 412)"
      ]
     },
     "metadata": {},
     "output_type": "display_data"
    }
   ],
   "source": [
    "u,v = svd_decompose(train_interaction_matrix,len(selected_elements))\n",
    "# let's quickly construct the matrix back to make sure everything works\n",
    "f = len(selected_elements)\n",
    "cut_array = u @ v.T\n",
    "display('reconstructed interaction matrix with f = ', f, ', truncated:\\n', cut_array.round(),np.shape(cut_array))\n"
   ]
  },
  {
   "cell_type": "markdown",
   "metadata": {},
   "source": [
    "\n",
    "**Checking if matrices are identical now**\n"
   ]
  },
  {
   "cell_type": "code",
   "execution_count": 13,
   "metadata": {},
   "outputs": [
    {
     "data": {
      "text/plain": [
       "array([[ True,  True,  True, ...,  True,  True,  True],\n",
       "       [ True,  True,  True, ...,  True,  True,  True],\n",
       "       [ True,  True,  True, ...,  True,  True,  True],\n",
       "       ...,\n",
       "       [ True,  True,  True, ...,  True,  True,  True],\n",
       "       [ True,  True,  True, ...,  True,  True,  True],\n",
       "       [ True,  True,  True, ...,  True,  True,  True]])"
      ]
     },
     "metadata": {},
     "output_type": "display_data"
    },
    {
     "name": "stdout",
     "output_type": "stream",
     "text": [
      "\n",
      "272  missmathces throughout composed matrix  491928 , which is  0.00055 %\n"
     ]
    }
   ],
   "source": [
    "otv = np.isclose(train_interaction_matrix,cut_array.round())\n",
    "display(otv)\n",
    "print()\n",
    "print(np.count_nonzero(otv == False), \" missmathces throughout composed matrix \",\n",
    "      np.shape(cut_array)[0]*np.shape(cut_array)[1],\n",
    "     \", which is \", '%.5f'%(np.count_nonzero(otv == False)/(np.shape(cut_array)[0]*np.shape(cut_array)[1])),\"%\")"
   ]
  },
  {
   "cell_type": "markdown",
   "metadata": {},
   "source": [
    "# Part  : Iterative Matrix Factorization with PyTorch"
   ]
  },
  {
   "cell_type": "code",
   "execution_count": 19,
   "metadata": {},
   "outputs": [],
   "source": [
    "class MF(nn.Module):\n",
    "\n",
    "    def __init__(self, n_users: int, n_items: int, n_factors: int):\n",
    "        \"\"\"\n",
    "        n_users - int - number of users.\n",
    "        n_items - int - number of items.\n",
    "        n_factors - int - dimensionality of the latent space.\n",
    "        \"\"\"\n",
    "\n",
    "        super(MF, self).__init__()\n",
    "\n",
    "        self.embedding_user = nn.Embedding(n_users, n_factors)\n",
    "        self.embedding_item = nn.Embedding(n_items, n_factors)\n",
    "\n",
    "    def forward(self, user: torch.Tensor, item: torch.Tensor) -> torch.Tensor:\n",
    "        \"\"\"\n",
    "        We allow for some flexibility giving lists of ids as inputs:\n",
    "        if the training data is small we can deal with it in a single forward pass,\n",
    "        otherwise we could fall back to mini-batches, limiting users and items we pass\n",
    "        every time.\n",
    "        \n",
    "        user - torch.Tensor - user_ids.\n",
    "        item - torch.Tensor - item_ids.\n",
    "        \n",
    "        returns - torch.Tensor - Reconstructed Interaction matrix of shape (n_users, n_items).\n",
    "        \"\"\"\n",
    "        \n",
    "        u = self.embedding_user(user)\n",
    "        v = self.embedding_item(item)\n",
    "        interaction_matrix = u @ v.T\n",
    "        reconstructed_matrix = interaction_matrix\n",
    "        #reconstructed_matrix = torch.relu(interaction_matrix)  # Adding ReLU activation\n",
    "\n",
    "        return reconstructed_matrix"
   ]
  },
  {
   "cell_type": "code",
   "execution_count": 20,
   "metadata": {},
   "outputs": [],
   "source": [
    "def compute_loss(logits: torch.Tensor, labels: torch.Tensor) -> torch.Tensor:\n",
    "    \"\"\"\n",
    "    logits - torch.Tensor - output of model.\n",
    "    labels - torch.Tensor - labels / interaction matrix model should learn to reconstruct.\n",
    "    \n",
    "    returns - torch.Tensor - BCELoss over all logits and labels.\n",
    "    \"\"\"\n",
    "    loss = None\n",
    "\n",
    "    # TODO: YOUR IMPLEMENTATION.\n",
    "    \n",
    "    bce_loss = nn.BCELoss()\n",
    "    act_output = nn.Sigmoid()(logits)\n",
    "    loss_output = bce_loss(act_output, labels)\n",
    "    loss = loss_output\n",
    "\n",
    "    return loss"
   ]
  },
  {
   "cell_type": "code",
   "execution_count": 21,
   "metadata": {},
   "outputs": [],
   "source": [
    "def train(model: nn.Module, train_data_inter: np.ndarray, epochs: int, optimizer, loss_func) -> list:\n",
    "    \"\"\"\n",
    "    model - nn.Module - torch module to train.\n",
    "    train_data_inter - np.ndarray - interaction matrix of the training data.\n",
    "    epochs - int - number of epochs to perform.\n",
    "    optimizer - optim - optimizer for training.\n",
    "    loss_func - loss function for training.\n",
    "    \n",
    "    returns - list - list of loss values over all epochs.\n",
    "    \"\"\"\n",
    "    losses = []\n",
    "\n",
    "    model.train()\n",
    "\n",
    "    user_ids = torch.Tensor(list(range(train_data_inter.shape[0]))).long()\n",
    "    item_ids = torch.Tensor(list(range(train_data_inter.shape[1]))).long()\n",
    "    y = torch.Tensor(train_data_inter).long()\n",
    "\n",
    "    for e in range(epochs):\n",
    "        optimizer.zero_grad()\n",
    "\n",
    "        y_hat = model(user_ids, item_ids)\n",
    "\n",
    "        loss = loss_func(y_hat.unsqueeze(0).float(), y.unsqueeze(0).float())\n",
    "        loss.backward()\n",
    "        optimizer.step()\n",
    "\n",
    "        if e % 50 == 0:\n",
    "            print(\"Loss \", e, \": \", loss.item())\n",
    "\n",
    "        losses.append(loss.item())\n",
    "\n",
    "    return losses"
   ]
  },
  {
   "cell_type": "code",
   "execution_count": 26,
   "metadata": {},
   "outputs": [],
   "source": [
    "# Do not change the seed.\n",
    "torch.manual_seed(1234)\n",
    "rnd.seed(1234)\n",
    "np.random.seed(1234)\n",
    "\n",
    "model = None\n",
    "optimizer = None\n",
    "\n",
    "# TODO: YOUR IMPLEMENATION.\n",
    "# Initialize the model and optimizer as prescribed\n",
    "model = MF(1194,412,252)\n",
    "\"\"\"\n",
    "        n_users - int - number of users.\n",
    "        n_items - int - number of items.\n",
    "        n_factors - int - dimensionality of the latent space.\n",
    "\"\"\"\n",
    "optimizer = optim.Adam(model.parameters(), lr=0.001)"
   ]
  },
  {
   "cell_type": "code",
   "execution_count": 27,
   "metadata": {},
   "outputs": [
    {
     "name": "stdout",
     "output_type": "stream",
     "text": [
      "Loss  0 :  17.254154205322266\n",
      "Loss  50 :  15.833192825317383\n",
      "Loss  100 :  13.722026824951172\n",
      "Loss  150 :  10.310229301452637\n",
      "Loss  200 :  6.272189140319824\n",
      "Loss  250 :  3.2926218509674072\n",
      "Loss  300 :  1.67078697681427\n",
      "Loss  350 :  0.9454523921012878\n",
      "Loss  400 :  0.6346049904823303\n",
      "Loss  450 :  0.47964295744895935\n",
      "Loss  500 :  0.39493435621261597\n",
      "Loss  550 :  0.34289634227752686\n",
      "Loss  600 :  0.30419012904167175\n",
      "Loss  650 :  0.2747049331665039\n",
      "Loss  700 :  0.2512243688106537\n",
      "Loss  750 :  0.23089730739593506\n",
      "Loss  800 :  0.21569620072841644\n",
      "Loss  850 :  0.20231235027313232\n",
      "Loss  900 :  0.1921001672744751\n",
      "Loss  950 :  0.18474797904491425\n",
      "Loss  1000 :  0.178968608379364\n",
      "Loss  1050 :  0.17430005967617035\n",
      "Loss  1100 :  0.17070886492729187\n",
      "Loss  1150 :  0.16718915104866028\n",
      "Loss  1200 :  0.16419681906700134\n",
      "Loss  1250 :  0.1617870181798935\n",
      "Loss  1300 :  0.1589946746826172\n",
      "Loss  1350 :  0.1578778177499771\n",
      "Loss  1400 :  0.15655966103076935\n",
      "Loss  1450 :  0.15535816550254822\n",
      "Loss  1500 :  0.15369823575019836\n",
      "Loss  1550 :  0.1527414172887802\n",
      "Loss  1600 :  0.15184570848941803\n",
      "Loss  1650 :  0.15082548558712006\n",
      "Loss  1700 :  0.15035387873649597\n",
      "Loss  1750 :  0.14919744431972504\n",
      "Loss  1800 :  0.14859609305858612\n",
      "Loss  1850 :  0.1480439454317093\n",
      "Loss  1900 :  0.14716942608356476\n",
      "Loss  1950 :  0.14681005477905273\n"
     ]
    }
   ],
   "source": [
    "loss_model = train(model=model,\n",
    "                       train_data_inter=train_interaction_matrix,\n",
    "                       epochs=2000,\n",
    "                       optimizer=optimizer,\n",
    "                       loss_func=compute_loss)\n",
    "\n",
    "#assert len(loss_model) == 1000, \"Loss should have 1000 elements, one for each epoch.\""
   ]
  },
  {
   "cell_type": "code",
   "execution_count": 28,
   "metadata": {},
   "outputs": [
    {
     "data": {
      "image/png": "[encoded data removed]",
      "text/plain": [
       "<Figure size 640x480 with 1 Axes>"
      ]
     },
     "metadata": {},
     "output_type": "display_data"
    }
   ],
   "source": [
    "import matplotlib.pyplot as plt\n",
    "\n",
    "plt.plot(loss_model, label=\"252\")\n",
    "\n",
    "plt.xlabel(\"Epoch\")\n",
    "plt.ylabel(\"BCE Loss\")\n",
    "plt.legend()\n",
    "plt.show()"
   ]
  },
  {
   "cell_type": "markdown",
   "metadata": {},
   "source": [
    "#### Recommendations with the trained Factorization Model\n",
    "\n",
    "Let's write a function that recommends topK items to a user, whose id is given, using the trained model.\n",
    "Our recommendation should be done in a fashion similar to *svd_recommend*: score items based the corresponding embeddings. We do not consider items already seen by the user."
   ]
  },
  {
   "cell_type": "code",
   "execution_count": 29,
   "metadata": {},
   "outputs": [],
   "source": [
    "def itMF_recommend(user_id: int, seen_item_ids: list, model=None, topK=10) -> np.ndarray:\n",
    "    \"\"\"\n",
    "    Recommend with the trained model to selected users\n",
    "    \n",
    "    user_id - int - id of target user.\n",
    "    seen_item_ids - list[list[int]] ids of items already seen by the users (to exclude from recommendation)\n",
    "    model - trainted factorization model to use for scoring\n",
    "    topK - number of recommendations per user to be returned\n",
    "    \n",
    "    returns - np.ndarray - np.ndarray - list of ids of recommended items in the order of descending score\n",
    "                           use -1 as a place holder item index, when it is impossible to recommend topK items\n",
    "    \"\"\"\n",
    "    recs = None\n",
    "\n",
    "    model.eval()\n",
    "\n",
    "\n",
    "    with torch.no_grad():\n",
    "\n",
    "        state_dict = model.state_dict()\n",
    "        U = state_dict['embedding_user.weight'].detach().numpy()\n",
    "        V = state_dict['embedding_item.weight'].detach().numpy()\n",
    "\n",
    "        rec = np.dot(U[user_id,:], V.T)\n",
    "    \n",
    "        for i in range(len(rec)):\n",
    "            if i in seen_item_ids[0]:\n",
    "                rec[i] = -1\n",
    "\n",
    "        otv = np.argsort(rec)[::-1]\n",
    "        otv = np.append(otv[:topK], [-1] * (topK - len(otv[:topK])))\n",
    "\n",
    "    return np.array(otv)"
   ]
  },
  {
   "cell_type": "code",
   "execution_count": null,
   "metadata": {},
   "outputs": [],
   "source": []
  },
  {
   "cell_type": "markdown",
   "metadata": {},
   "source": [
    "# Part  : Evaluation"
   ]
  },
  {
   "cell_type": "code",
   "execution_count": 30,
   "metadata": {},
   "outputs": [],
   "source": [
    "def get_ndcg_score(predictions: np.ndarray, test_interaction_matrix: np.ndarray, topK=10) -> float:\n",
    "    \"\"\"\n",
    "    predictions - np.ndarray - predictions of the recommendation algorithm for each user.\n",
    "    test_interaction_matrix - np.ndarray - test interaction matrix for each user.\n",
    "    topK - int - topK recommendations should be evaluated.\n",
    "    \n",
    "    returns - average ndcg score over all users.\n",
    "    \"\"\"\n",
    "    score = None\n",
    "    \n",
    "    # TODO: YOUR IMPLEMENTATION.\n",
    "    ndcg_scores = []\n",
    "    num_users = predictions.shape[0]\n",
    "\n",
    "    for i in range(num_users):\n",
    "        # Get the topK recommendations for the i-th user\n",
    "        topk_items = predictions[i][:topK]\n",
    "        \n",
    "        # Get the held-out items for the i-th user\n",
    "        held_out_items = np.where(test_interaction_matrix[i] == 1)[0]\n",
    "        \n",
    "        # Compute the ideal DCG for the i-th user\n",
    "        ideal_dcg = 0.0\n",
    "        for j in range(min(topK, len(held_out_items))):\n",
    "            if j == 0:\n",
    "                    ideal_dcg += 1.0\n",
    "            else:\n",
    "                ideal_dcg += 1.0 / np.log2(j + 2)\n",
    "        \n",
    "        # Compute the actual DCG for the i-th user\n",
    "        dcg = 0.0\n",
    "        for j, item in enumerate(topk_items):\n",
    "            if item in held_out_items:\n",
    "                if j == 0:\n",
    "                    dcg += 1.0\n",
    "                else:\n",
    "                    dcg += 1.0 / np.log2(j + 2)\n",
    "\n",
    "        # Compute the nDCG score for the i-th user\n",
    "        if ideal_dcg > 0:\n",
    "            ndcg = dcg / ideal_dcg\n",
    "        else:\n",
    "            ndcg = 0.0\n",
    "        \n",
    "        ndcg_scores.append(ndcg)\n",
    "\n",
    "    # Compute the average nDCG score over all users\n",
    "    score = np.mean(ndcg_scores)\n",
    "\n",
    "    return score"
   ]
  },
  {
   "cell_type": "code",
   "execution_count": 31,
   "metadata": {},
   "outputs": [],
   "source": [
    "config_predict = {\n",
    "    #interaction matrix\n",
    "    \"train_inter\": train_interaction_matrix,\n",
    "    #topK parameter used for all algorithms\n",
    "    \"top_k\": 10,\n",
    "    #specific parameters for all algorithms\n",
    "    \"recommenders\": {\n",
    "        \"SVD\": {\n",
    "            \"n_factors\": len(selected_elements)\n",
    "        },\n",
    "        \"Iterative Matrix Factorization\": {\n",
    "            \"n_factors\": len(selected_elements)\n",
    "        },\n",
    "    }\n",
    "}"
   ]
  },
  {
   "cell_type": "code",
   "execution_count": 32,
   "metadata": {},
   "outputs": [],
   "source": [
    "def get_recommendations_for_algorithms(config: dict) -> dict:\n",
    "    \"\"\"\n",
    "    config - dict - configuration as defined above\n",
    "\n",
    "    returns - dict - already predefined below with name \"rec_dict\"\n",
    "    \"\"\"\n",
    "\n",
    "    # get the top_k parameter from the config\n",
    "    top_k = config[\"top_k\"]\n",
    "    \n",
    "    #use this structure to return results\n",
    "    rec_dict = {\"recommenders\": {\n",
    "        \"SVD\": {\n",
    "            #Add your predictions here\n",
    "            \"predictions\": np.empty((0,top_k ))\n",
    "        },\n",
    "        # \"Iterative Matrix Factorization\": {\n",
    "        #     \"predictions\": np.empty((0,top_k ))\n",
    "        # },\n",
    "    }}\n",
    "    \n",
    "    # get train_interaction_matrix from the config\n",
    "    train_interaction_matrix = config[\"train_inter\"]\n",
    "\n",
    "    # get recommenders from the config\n",
    "    recommenders = config['recommenders']\n",
    "    \n",
    "    #SVD\n",
    "    n_factors = recommenders[\"SVD\"][\"n_factors\"]\n",
    "    U, V = u,v\n",
    "        \n",
    "    #Iterative Matrix Factorization\n",
    "    # n_neighbours = recommenders[\"ItemKNN\"][\"n_neighbours\"]\n",
    "        \n",
    "    for i in range(train_interaction_matrix.shape[0]):\n",
    "        seen_list = np.where(train_interaction_matrix[i] != 0)\n",
    "        rec_dict['recommenders']['SVD']['predictions'] = np.vstack([rec_dict['recommenders']['SVD']['predictions'],svd_recommend_to_list(i,seen_list,U,V,top_k)])\n",
    "        #rec_dict['recommenders']['Iterative Matrix Factorization']['predictions'] = np.vstack([rec_dict['recommenders']['Iterative Matrix Factorization']['predictions'],recTopK(train_interaction_matrix,i,top_k,n_neighbours)])\n",
    "\n",
    "\n",
    "\n",
    "    return rec_dict"
   ]
  },
  {
   "cell_type": "code",
   "execution_count": 33,
   "metadata": {},
   "outputs": [],
   "source": [
    "recommendations = get_recommendations_for_algorithms(config_predict)\n",
    "\n",
    "assert \"SVD\" in recommendations[\"recommenders\"] and \"predictions\" in recommendations[\"recommenders\"][\"SVD\"]\n",
    "assert isinstance(recommendations[\"recommenders\"][\"SVD\"][\"predictions\"], np.ndarray)\n",
    "# assert \"ItemKNN\" in recommendations[\"recommenders\"] and \"predictions\" in recommendations[\"recommenders\"][\"ItemKNN\"]\n",
    "# assert isinstance(recommendations[\"recommenders\"][\"ItemKNN\"][\"predictions\"], np.ndarray)"
   ]
  },
  {
   "cell_type": "code",
   "execution_count": 34,
   "metadata": {},
   "outputs": [],
   "source": [
    "config_test = {\n",
    "    \"top_k\": 10,\n",
    "    \"test_inter\": test_interaction_matrix,\n",
    "    \"recommenders\": {}  # here you can access the recommendations from get_recommendations_for_algorithms\n",
    "\n",
    "}\n",
    "# add dictionary with recommendations to config dictionary\n",
    "config_test.update(recommendations)"
   ]
  },
  {
   "cell_type": "code",
   "execution_count": 37,
   "metadata": {},
   "outputs": [],
   "source": [
    "def evaluate_algorithms(config: dict) -> dict:\n",
    "    \"\"\"\n",
    "    config - dict - configuration as defined above\n",
    "\n",
    "    returns - dict - { Recommender Key from input dict: { \"ndcg\": float - ndcg from evaluation for this recommender} }\n",
    "    \"\"\"\n",
    "\n",
    "    metrics = {\n",
    "        \"SVD\": {\n",
    "        },\n",
    "        # \"Iterative Matrix Factorization\": {\n",
    "        # },\n",
    "    }\n",
    "\n",
    "    # TODO: YOUR IMPLEMENTATION.\n",
    "    \n",
    "    top_k = config['top_k']\n",
    "    test_interaction_matrix = config['test_inter']\n",
    "    SVD = config['recommenders']['SVD']['predictions']\n",
    "    #ItemKNN = config['recommenders']['Iterative Matrix Factorization']['predictions']\n",
    "\n",
    "\n",
    "    metrics['SVD']['ndcg'] = get_ndcg_score(SVD, test_interaction_matrix, top_k)\n",
    "    #metrics['Iterative Matrix Factorization']['ndcg'] = get_ndcg_score(ItemKNN,test_interaction_matrix, top_k)\n",
    "\n",
    "    \n",
    "    return metrics"
   ]
  },
  {
   "cell_type": "code",
   "execution_count": 38,
   "metadata": {},
   "outputs": [
    {
     "name": "stdout",
     "output_type": "stream",
     "text": [
      "SVD ndcg: 0.023616170887646743\n"
     ]
    }
   ],
   "source": [
    "evaluations = evaluate_algorithms(config_test)\n",
    "\n",
    "for recommender in evaluations.keys():\n",
    "    print(f\"{recommender} ndcg: {evaluations[recommender]['ndcg']}\")"
   ]
  },
  {
   "cell_type": "code",
   "execution_count": null,
   "metadata": {},
   "outputs": [],
   "source": []
  }
 ],
 "metadata": {
  "kernelspec": {
   "display_name": "Python 3 (ipykernel)",
   "language": "python",
   "name": "python3"
  },
  "language_info": {
   "codemirror_mode": {
    "name": "ipython",
    "version": 3
   },
   "file_extension": ".py",
   "mimetype": "text/x-python",
   "name": "python",
   "nbconvert_exporter": "python",
   "pygments_lexer": "ipython3",
   "version": "3.9.12"
  }
 },
 "nbformat": 4,
 "nbformat_minor": 4
}
